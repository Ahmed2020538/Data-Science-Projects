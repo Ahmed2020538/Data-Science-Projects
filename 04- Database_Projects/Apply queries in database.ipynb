{
 "cells": [
  {
   "cell_type": "markdown",
   "metadata": {},
   "source": [
    "* Connect To Mac Database.\n",
    "* Insert New Record in Consumers Table."
   ]
  },
  {
   "cell_type": "code",
   "execution_count": 5,
   "metadata": {},
   "outputs": [],
   "source": [
    "import sqlite3 as S\n",
    "con = S.connect(\"Maconals.db\")\n",
    "I1 = con.execute(\"insert into Consumers (C_Name , C_City , C_Number) values(?,?,?) \"  , [\"Bakr\" ,\"Shrouk City\" ,1113900542])\n",
    "con.commit()"
   ]
  },
  {
   "cell_type": "markdown",
   "metadata": {},
   "source": [
    "* Connect To Mac Database.\n",
    "* Update  Record in Consumers Table."
   ]
  },
  {
   "cell_type": "code",
   "execution_count": 6,
   "metadata": {},
   "outputs": [],
   "source": [
    "import sqlite3 as S\n",
    "con = S.connect(\"Maconals.db\")\n",
    "U1 = con.execute(\"update Consumers set C_Name = ? , C_City = ? where C_Id = ?\" , [\"Ahmed\" , \"Berlin\" , 2])\n",
    "con.commit()"
   ]
  },
  {
   "cell_type": "markdown",
   "metadata": {},
   "source": [
    "* Connect To Mac Database.\n",
    "* Insert New Records in Consumers Table."
   ]
  },
  {
   "cell_type": "code",
   "execution_count": 7,
   "metadata": {},
   "outputs": [],
   "source": [
    "import sqlite3 as S\n",
    "con = S.connect(\"Maconals.db\")\n",
    "I1 = con.execute(\"insert into Consumers (C_Name , C_City , C_Number) values(?,?,?) \"  , [\"Ali\" ,\"Benha\" ,1113800555])\n",
    "I1 = con.execute(\"insert into Consumers (C_Name , C_City , C_Number) values(?,?,?) \"  , [\"Salma\" ,\"Sharaton\" ,1013700222])\n",
    "con.commit()"
   ]
  },
  {
   "cell_type": "markdown",
   "metadata": {},
   "source": [
    "* Connect To Mac Database.\n",
    "* Delet Records in Consumers Table."
   ]
  },
  {
   "cell_type": "code",
   "execution_count": 8,
   "metadata": {},
   "outputs": [],
   "source": [
    "import sqlite3 as S\n",
    "con = S.connect(\"Maconals.db\")\n",
    "D1 = con.execute(\"delete from consumers where C_Id = ? \" , [1])\n",
    "con.commit()"
   ]
  },
  {
   "cell_type": "code",
   "execution_count": null,
   "metadata": {},
   "outputs": [],
   "source": []
  },
  {
   "cell_type": "code",
   "execution_count": null,
   "metadata": {},
   "outputs": [],
   "source": []
  }
 ],
 "metadata": {
  "kernelspec": {
   "display_name": "Python 3",
   "language": "python",
   "name": "python3"
  },
  "language_info": {
   "codemirror_mode": {
    "name": "ipython",
    "version": 3
   },
   "file_extension": ".py",
   "mimetype": "text/x-python",
   "name": "python",
   "nbconvert_exporter": "python",
   "pygments_lexer": "ipython3",
   "version": "3.8.8"
  }
 },
 "nbformat": 4,
 "nbformat_minor": 2
}
